{
 "cells": [
  {
   "cell_type": "code",
   "execution_count": 1,
   "id": "5cfda2b7",
   "metadata": {},
   "outputs": [],
   "source": [
    "from tensorflow.keras.preprocessing.image import ImageDataGenerator\n",
    "import tensorflow as tf"
   ]
  },
  {
   "cell_type": "code",
   "execution_count": 2,
   "id": "ac84a79c",
   "metadata": {},
   "outputs": [
    {
     "name": "stdout",
     "output_type": "stream",
     "text": [
      "Num GPUs Available:  1\n",
      "Device mapping:\n",
      "/job:localhost/replica:0/task:0/device:GPU:0 -> device: 0, name: NVIDIA GeForce GTX 1660 Ti, pci bus id: 0000:01:00.0, compute capability: 7.5\n",
      "\n"
     ]
    }
   ],
   "source": [
    "print(\"Num GPUs Available: \", len(tf.config.list_physical_devices('GPU')))\n",
    "sess = tf.compat.v1.Session(config=tf.compat.v1.ConfigProto(log_device_placement=True))"
   ]
  },
  {
   "cell_type": "code",
   "execution_count": 3,
   "id": "01d18e6a",
   "metadata": {},
   "outputs": [],
   "source": [
    "data_dir = \"C:/Users/R3M0/Documents/Project KLE-BGM/Models/aug zone/\"\n",
    "save_dir= \"C:/Users/R3M0/Documents/Project KLE-BGM/Models/aug zone/2/\"\n",
    "# batch_size=32\n",
    "img_height=1080\n",
    "img_width=1080"
   ]
  },
  {
   "cell_type": "code",
   "execution_count": 4,
   "id": "3053fc5a",
   "metadata": {},
   "outputs": [],
   "source": [
    "datagen1 = ImageDataGenerator(\n",
    "#         rotation_range=5,\n",
    "#         horizontal_flip=True,\n",
    "        vertical_flip=True,\n",
    "        validation_split=0.0,\n",
    ")\n",
    "datagen2 = ImageDataGenerator(\n",
    "#         rotation_range=5,,\n",
    "        horizontal_flip=True,\n",
    "#         vertical_flip=True,\n",
    "        validation_split=0.0,\n",
    ")\n",
    "datagen3 = ImageDataGenerator(\n",
    "        rotation_range=5,\n",
    "#         horizontal_flip=True,\n",
    "#         vertical_flip=True,\n",
    "        validation_split=0.0,\n",
    ")\n",
    "datagen4 = ImageDataGenerator(\n",
    "        rotation_range=5,\n",
    "#         horizontal_flip=True,\n",
    "        vertical_flip=True,\n",
    "        validation_split=0.0,\n",
    ")\n",
    "datagen5 = ImageDataGenerator(\n",
    "        rotation_range=5,\n",
    "        horizontal_flip=True,\n",
    "#         vertical_flip=True,\n",
    "        validation_split=0.0,\n",
    ")"
   ]
  },
  {
   "cell_type": "code",
   "execution_count": 5,
   "id": "4c97bf19",
   "metadata": {},
   "outputs": [
    {
     "name": "stdout",
     "output_type": "stream",
     "text": [
      "Found 12 images belonging to 2 classes.\n",
      "Found 12 images belonging to 2 classes.\n",
      "Found 12 images belonging to 2 classes.\n",
      "Found 12 images belonging to 2 classes.\n",
      "Found 12 images belonging to 2 classes.\n"
     ]
    }
   ],
   "source": [
    "images1=datagen1.flow_from_directory(\n",
    "    directory=data_dir,\n",
    "    target_size=(img_height,img_width),\n",
    "    color_mode=\"rgb\",\n",
    "    classes=None,\n",
    "    class_mode=None,\n",
    "    batch_size=1,\n",
    "    shuffle=False,\n",
    "    seed=None,\n",
    "    follow_links=False,\n",
    "    subset=None,\n",
    "    interpolation=\"nearest\",\n",
    ")\n",
    "images2=datagen2.flow_from_directory(\n",
    "    directory=data_dir,\n",
    "    target_size=(img_height,img_width),\n",
    "    color_mode=\"rgb\",\n",
    "    classes=None,\n",
    "    class_mode=None,\n",
    "    batch_size=1,\n",
    "    shuffle=False,\n",
    "    seed=None,\n",
    "    follow_links=False,\n",
    "    subset=None,\n",
    "    interpolation=\"nearest\",\n",
    ")\n",
    "images3=datagen3.flow_from_directory(\n",
    "    directory=data_dir,\n",
    "    target_size=(img_height,img_width),\n",
    "    color_mode=\"rgb\",\n",
    "    classes=None,\n",
    "    class_mode=None,\n",
    "    batch_size=1,\n",
    "    shuffle=False,\n",
    "    seed=None,\n",
    "    follow_links=False,\n",
    "    subset=None,\n",
    "    interpolation=\"nearest\",\n",
    ")\n",
    "images4=datagen4.flow_from_directory(\n",
    "    directory=data_dir,\n",
    "    target_size=(img_height,img_width),\n",
    "    color_mode=\"rgb\",\n",
    "    classes=None,\n",
    "    class_mode=None,\n",
    "    batch_size=1,\n",
    "    shuffle=False,\n",
    "    seed=None,\n",
    "    follow_links=False,\n",
    "    subset=None,\n",
    "    interpolation=\"nearest\",\n",
    ")\n",
    "images5=datagen5.flow_from_directory(\n",
    "    directory=data_dir,\n",
    "    target_size=(img_height,img_width),\n",
    "    color_mode=\"rgb\",\n",
    "    classes=None,\n",
    "    class_mode=None,\n",
    "    batch_size=1,\n",
    "    shuffle=False,\n",
    "    seed=None,\n",
    "    follow_links=False,\n",
    "    subset=None,\n",
    "    interpolation=\"nearest\",\n",
    ")"
   ]
  },
  {
   "cell_type": "code",
   "execution_count": 6,
   "id": "b1e8cded",
   "metadata": {},
   "outputs": [],
   "source": [
    "for i in range(images1.samples):\n",
    "    if i%5==0:\n",
    "        for batch in datagen5.flow(images5[i], batch_size=1,save_to_dir=save_dir, save_prefix='aug', save_format='jpeg'):\n",
    "            break\n",
    "    elif i%5==1:\n",
    "        for batch in datagen5.flow(images5[i], batch_size=1,save_to_dir=save_dir, save_prefix='aug', save_format='jpeg'):\n",
    "            break\n",
    "    elif i%5==2:\n",
    "        for batch in datagen5.flow(images5[i], batch_size=1,save_to_dir=save_dir, save_prefix='aug', save_format='jpeg'):\n",
    "            break\n",
    "    elif i%5==3:\n",
    "        for batch in datagen5.flow(images5[i], batch_size=1,save_to_dir=save_dir, save_prefix='aug', save_format='jpeg'):\n",
    "            break\n",
    "    elif i%5==4:\n",
    "        for batch in datagen5.flow(images5[i], batch_size=1,save_to_dir=save_dir, save_prefix='aug', save_format='jpeg'):\n",
    "            break"
   ]
  },
  {
   "cell_type": "code",
   "execution_count": null,
   "id": "7be51960",
   "metadata": {},
   "outputs": [],
   "source": []
  }
 ],
 "metadata": {
  "kernelspec": {
   "display_name": "Python 3",
   "language": "python",
   "name": "python3"
  },
  "language_info": {
   "codemirror_mode": {
    "name": "ipython",
    "version": 3
   },
   "file_extension": ".py",
   "mimetype": "text/x-python",
   "name": "python",
   "nbconvert_exporter": "python",
   "pygments_lexer": "ipython3",
   "version": "3.8.8"
  }
 },
 "nbformat": 4,
 "nbformat_minor": 5
}
