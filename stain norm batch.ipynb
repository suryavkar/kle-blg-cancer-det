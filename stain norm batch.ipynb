{
 "cells": [
  {
   "cell_type": "code",
   "execution_count": 1,
   "id": "5cfda2b7",
   "metadata": {},
   "outputs": [],
   "source": [
    "from tensorflow.keras.preprocessing.image import ImageDataGenerator\n",
    "import numpy as np\n",
    "import matplotlib.pyplot as plt"
   ]
  },
  {
   "cell_type": "code",
   "execution_count": 2,
   "id": "01d18e6a",
   "metadata": {},
   "outputs": [],
   "source": [
    "data_dir = \"C:/Users/R3M0/Documents/Project KLE-BGM/Models/aug zone/\"\n",
    "save_dir= \"C:/Users/R3M0/Documents/Project KLE-BGM/Models/aug zone/2/\"\n",
    "# batch_size=32\n",
    "img_height = 1944\n",
    "img_width = 2592"
   ]
  },
  {
   "cell_type": "code",
   "execution_count": 3,
   "id": "4c97bf19",
   "metadata": {},
   "outputs": [
    {
     "name": "stdout",
     "output_type": "stream",
     "text": [
      "Found 20 images belonging to 2 classes.\n"
     ]
    }
   ],
   "source": [
    "datagen = ImageDataGenerator(validation_split=0.0)\n",
    "images=datagen.flow_from_directory(\n",
    "    directory=data_dir,\n",
    "    target_size=(img_height,img_width),\n",
    "    color_mode=\"rgb\",\n",
    "    classes=None,\n",
    "    class_mode=None,\n",
    "    batch_size=1,\n",
    "    shuffle=False,\n",
    "    seed=None,\n",
    "    follow_links=False,\n",
    "    subset=None,\n",
    "    interpolation=\"nearest\",\n",
    ")"
   ]
  },
  {
   "cell_type": "code",
   "execution_count": 4,
   "id": "b1e8cded",
   "metadata": {},
   "outputs": [],
   "source": [
    "for i in range(images.samples):\n",
    "    img = images[i]\n",
    "    img = img[0,:,:,:]\n",
    "    Io = 240\n",
    "    alpha = 1\n",
    "    beta = 0.15\n",
    "    HERef = np.array([[0.5626, 0.2159],\n",
    "                  [0.7201, 0.8012],\n",
    "                  [0.4062, 0.5581]])\n",
    "    maxCRef = np.array([1.9705, 1.0308])\n",
    "    \n",
    "    h, w, c = img.shape\n",
    "    img = img.reshape((-1,3))\n",
    "    OD = -np.log10((img.astype(np.float)+1)/Io)\n",
    "    ODhat = OD[~np.any(OD < beta, axis=1)]\n",
    "    eigvals, eigvecs = np.linalg.eigh(np.cov(ODhat.T))\n",
    "    That = ODhat.dot(eigvecs[:,1:3])\n",
    "    phi = np.arctan2(That[:,1],That[:,0])\n",
    "    minPhi = np.percentile(phi, alpha)\n",
    "    maxPhi = np.percentile(phi, 100-alpha)\n",
    "    vMin = eigvecs[:,1:3].dot(np.array([(np.cos(minPhi), np.sin(minPhi))]).T)\n",
    "    vMax = eigvecs[:,1:3].dot(np.array([(np.cos(maxPhi), np.sin(maxPhi))]).T)\n",
    "    if vMin[0] > vMax[0]:    \n",
    "        HE = np.array((vMin[:,0], vMax[:,0])).T\n",
    "    else:\n",
    "        HE = np.array((vMax[:,0], vMin[:,0])).T\n",
    "    Y = np.reshape(OD, (-1, 3)).T\n",
    "    C = np.linalg.lstsq(HE,Y, rcond=None)[0]\n",
    "    maxC = np.array([np.percentile(C[0,:], 99), np.percentile(C[1,:],99)])\n",
    "    tmp = np.divide(maxC,maxCRef)\n",
    "    C2 = np.divide(C,tmp[:, np.newaxis])\n",
    "    Inorm = np.multiply(Io, np.exp(-HERef.dot(C2)))\n",
    "    Inorm[Inorm>255] = 254\n",
    "    Inorm = np.reshape(Inorm.T, (h, w, 3)).astype(np.uint8) \n",
    "    plt.imsave(\"C:/Users/R3M0/Documents/Project KLE-BGM/Models/aug zone/2/sn_\"+str(np.random.randint(0,100000))+\".jpg\", Inorm)"
   ]
  },
  {
   "cell_type": "code",
   "execution_count": null,
   "id": "7be51960",
   "metadata": {},
   "outputs": [],
   "source": []
  }
 ],
 "metadata": {
  "kernelspec": {
   "display_name": "Python 3",
   "language": "python",
   "name": "python3"
  },
  "language_info": {
   "codemirror_mode": {
    "name": "ipython",
    "version": 3
   },
   "file_extension": ".py",
   "mimetype": "text/x-python",
   "name": "python",
   "nbconvert_exporter": "python",
   "pygments_lexer": "ipython3",
   "version": "3.8.8"
  }
 },
 "nbformat": 4,
 "nbformat_minor": 5
}
