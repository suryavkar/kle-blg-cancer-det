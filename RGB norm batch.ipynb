{
 "cells": [
  {
   "cell_type": "code",
   "execution_count": 1,
   "id": "5cfda2b7",
   "metadata": {},
   "outputs": [],
   "source": [
    "from tensorflow.keras.preprocessing.image import ImageDataGenerator\n",
    "import numpy as np\n",
    "import matplotlib.pyplot as plt"
   ]
  },
  {
   "cell_type": "code",
   "execution_count": 2,
   "id": "01d18e6a",
   "metadata": {},
   "outputs": [],
   "source": [
    "data_dir = \"C:/Users/R3M0/Documents/Project KLE-BGM/Models/aug zone/\"\n",
    "save_dir= \"C:/Users/R3M0/Documents/Project KLE-BGM/Models/aug zone/2/\"\n",
    "# batch_size=32\n",
    "img_height = 1944\n",
    "img_width = 2592"
   ]
  },
  {
   "cell_type": "code",
   "execution_count": 3,
   "id": "4c97bf19",
   "metadata": {},
   "outputs": [
    {
     "name": "stdout",
     "output_type": "stream",
     "text": [
      "Found 157 images belonging to 2 classes.\n"
     ]
    }
   ],
   "source": [
    "datagen = ImageDataGenerator(validation_split=0.0)\n",
    "images=datagen.flow_from_directory(\n",
    "    directory=data_dir,\n",
    "    target_size=(img_height,img_width),\n",
    "    color_mode=\"rgb\",\n",
    "    classes=None,\n",
    "    class_mode=None,\n",
    "    batch_size=1,\n",
    "    shuffle=False,\n",
    "    seed=None,\n",
    "    follow_links=False,\n",
    "    subset=None,\n",
    "    interpolation=\"nearest\",\n",
    ")"
   ]
  },
  {
   "cell_type": "code",
   "execution_count": 4,
   "id": "b1e8cded",
   "metadata": {},
   "outputs": [
    {
     "name": "stderr",
     "output_type": "stream",
     "text": [
      "<ipython-input-4-50e671a45b16>:4: RuntimeWarning: invalid value encountered in true_divide\n",
      "  img /= np.sum(img,axis=2,keepdims=True)\n"
     ]
    }
   ],
   "source": [
    "for i in range(images.samples):\n",
    "    img = images[i]\n",
    "    img = img[0,:,:,:]\n",
    "    img /= np.sum(img,axis=2,keepdims=True)\n",
    "#     print(img.shape)\n",
    "    plt.imsave(\"C:/Users/R3M0/Documents/Project KLE-BGM/Models/aug zone/2/rgb_norm\"+str(np.random.randint(0,100000))+\".jpg\", img);"
   ]
  },
  {
   "cell_type": "code",
   "execution_count": null,
   "id": "7be51960",
   "metadata": {},
   "outputs": [],
   "source": []
  }
 ],
 "metadata": {
  "kernelspec": {
   "display_name": "Python 3",
   "language": "python",
   "name": "python3"
  },
  "language_info": {
   "codemirror_mode": {
    "name": "ipython",
    "version": 3
   },
   "file_extension": ".py",
   "mimetype": "text/x-python",
   "name": "python",
   "nbconvert_exporter": "python",
   "pygments_lexer": "ipython3",
   "version": "3.8.8"
  }
 },
 "nbformat": 4,
 "nbformat_minor": 5
}
